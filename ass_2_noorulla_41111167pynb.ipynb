{
  "nbformat": 4,
  "nbformat_minor": 0,
  "metadata": {
    "colab": {
      "provenance": [],
      "authorship_tag": "ABX9TyPSKii2nNmGQBfX3WfwJ03e",
      "include_colab_link": true
    },
    "kernelspec": {
      "name": "python3",
      "display_name": "Python 3"
    },
    "language_info": {
      "name": "python"
    }
  },
  "cells": [
    {
      "cell_type": "markdown",
      "metadata": {
        "id": "view-in-github",
        "colab_type": "text"
      },
      "source": [
        "<a href=\"https://colab.research.google.com/github/noorullask/aws-ass1/blob/main/ass_2_noorulla_41111167pynb.ipynb\" target=\"_parent\"><img src=\"https://colab.research.google.com/assets/colab-badge.svg\" alt=\"Open In Colab\"/></a>"
      ]
    },
    {
      "cell_type": "code",
      "execution_count": null,
      "metadata": {
        "colab": {
          "base_uri": "https://localhost:8080/"
        },
        "id": "HYRyAerFV2CX",
        "outputId": "81d261dc-76de-46cc-f1ad-f418719ac8d8"
      },
      "outputs": [
        {
          "output_type": "stream",
          "name": "stdout",
          "text": [
            "Hello\n",
            "HELLO\n",
            "hello\n"
          ]
        }
      ],
      "source": [
        "def capitalize(word):\n",
        "    return word[0].upper() + word[1:]\n",
        "\n",
        "def my_upper(word):\n",
        "    return word.upper()\n",
        "\n",
        "def my_lower(word):\n",
        "    return word.lower()\n",
        "\n",
        "# Test the functions\n",
        "print(capitalize(\"hello\"))  # Outputs: Hello\n",
        "print(my_upper(\"hello\"))    # Outputs: HELLO\n",
        "print(my_lower(\"HELLO\"))    # Outputs: hello\n"
      ]
    },
    {
      "cell_type": "code",
      "source": [
        "sequence = [1, 2, 34, 65, 1, 2, 65, 66, 44, 33, 22, 87, 123412, 9, 78, 76]\n",
        "odd_sequence = [num for num in sequence if num % 2 != 0]\n",
        "print(odd_sequence)\n"
      ],
      "metadata": {
        "colab": {
          "base_uri": "https://localhost:8080/"
        },
        "id": "dGeMmd1QWU3r",
        "outputId": "c088f633-7c9a-4b3c-d35b-03e4b6e5f74e"
      },
      "execution_count": null,
      "outputs": [
        {
          "output_type": "stream",
          "name": "stdout",
          "text": [
            "[1, 65, 1, 65, 33, 87, 9]\n"
          ]
        }
      ]
    },
    {
      "cell_type": "code",
      "source": [
        "fruits = {'apple': 10, 'mango': 20, 'pineapple': 25, 'orange': 30, 'strawberry': 50, 'jackfruit': 10}\n",
        "fruits_more_than_20 = {key: value for key, value in fruits.items() if value > 20}\n",
        "print(fruits_more_than_20)\n"
      ],
      "metadata": {
        "colab": {
          "base_uri": "https://localhost:8080/"
        },
        "id": "xnJQAp92WZ4E",
        "outputId": "51e1b1c8-bfcd-4dd9-85ad-51b4d73e340d"
      },
      "execution_count": null,
      "outputs": [
        {
          "output_type": "stream",
          "name": "stdout",
          "text": [
            "{'pineapple': 25, 'orange': 30, 'strawberry': 50}\n"
          ]
        }
      ]
    }
  ]
}