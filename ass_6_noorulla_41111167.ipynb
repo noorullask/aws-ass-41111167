{
  "nbformat": 4,
  "nbformat_minor": 0,
  "metadata": {
    "colab": {
      "provenance": [],
      "authorship_tag": "ABX9TyPwfo6aE4QzNLmsS43KcCDf",
      "include_colab_link": true
    },
    "kernelspec": {
      "name": "python3",
      "display_name": "Python 3"
    },
    "language_info": {
      "name": "python"
    }
  },
  "cells": [
    {
      "cell_type": "markdown",
      "metadata": {
        "id": "view-in-github",
        "colab_type": "text"
      },
      "source": [
        "<a href=\"https://colab.research.google.com/github/noorullask/aws-ass1/blob/main/ass_6_noorulla_41111167.ipynb\" target=\"_parent\"><img src=\"https://colab.research.google.com/assets/colab-badge.svg\" alt=\"Open In Colab\"/></a>"
      ]
    },
    {
      "cell_type": "code",
      "execution_count": null,
      "metadata": {
        "id": "29zm_Qu7_NoU"
      },
      "outputs": [],
      "source": [
        ">>> # cow bull prog as a func\n",
        ">>> # write palindrome and fibo func\n",
        ">>> # create a func to replicate range\n",
        ">>> # capitalize"
      ]
    },
    {
      "cell_type": "code",
      "source": [
        "# cow bull prog as a func\n",
        "def cow_bull(secret, guess):\n",
        "    cow = 0\n",
        "    bull = 0\n",
        "    for i in range(len(secret)):\n",
        "        if secret[i] == guess[i]:\n",
        "            cow += 1\n",
        "        elif secret[i] in guess:\n",
        "            bull += 1\n",
        "    return cow, bull\n",
        "\n",
        "# Example usage:\n",
        "secret_code = \"1234\"\n",
        "guess_code = \"1256\"\n",
        "result = cow_bull(secret_code, guess_code)\n",
        "print(\"Cows:\", result[0])\n",
        "print(\"Bulls:\", result[1])\n"
      ],
      "metadata": {
        "colab": {
          "base_uri": "https://localhost:8080/"
        },
        "id": "4NJUTtRE_WC-",
        "outputId": "e1d0db0e-b78b-4568-a7e1-cd655d80c66c"
      },
      "execution_count": null,
      "outputs": [
        {
          "output_type": "stream",
          "name": "stdout",
          "text": [
            "Cows: 2\n",
            "Bulls: 0\n"
          ]
        }
      ]
    },
    {
      "cell_type": "code",
      "source": [
        "# write palindrome and fibo func\n",
        "def is_palindrome(s):\n",
        "    return s == s[::-1]\n",
        "\n",
        "# Example usage:\n",
        "print(is_palindrome(\"radar\"))  # Output: True\n",
        "print(is_palindrome(\"hello\"))  # Output: False\n"
      ],
      "metadata": {
        "colab": {
          "base_uri": "https://localhost:8080/"
        },
        "id": "2MGLs2Wl_dVj",
        "outputId": "14e3c505-47ac-4d97-884b-13eed0ae12b7"
      },
      "execution_count": null,
      "outputs": [
        {
          "output_type": "stream",
          "name": "stdout",
          "text": [
            "True\n",
            "False\n"
          ]
        }
      ]
    },
    {
      "cell_type": "code",
      "source": [
        "# create a func to replicate range\n",
        "def my_range(start, stop=None, step=1):\n",
        "    if stop is None:\n",
        "        stop = start\n",
        "        start = 0\n",
        "    result = []\n",
        "    while start < stop:\n",
        "        result.append(start)\n",
        "        start += step\n",
        "    return result\n",
        "\n",
        "# Example usage:\n",
        "print(my_range(5))         # Output: [0, 1, 2, 3, 4]\n",
        "print(my_range(1, 10, 2))  # Output: [1, 3, 5, 7, 9]\n"
      ],
      "metadata": {
        "colab": {
          "base_uri": "https://localhost:8080/"
        },
        "id": "8ThJQvHY_jZk",
        "outputId": "b1acd1f0-568a-4694-ef35-58356d3dfb5f"
      },
      "execution_count": null,
      "outputs": [
        {
          "output_type": "stream",
          "name": "stdout",
          "text": [
            "[0, 1, 2, 3, 4]\n",
            "[1, 3, 5, 7, 9]\n"
          ]
        }
      ]
    },
    {
      "cell_type": "code",
      "source": [
        "# capitalize\n",
        "def my_capitalize(s):\n",
        "    return s[0].upper() + s[1:]\n",
        "\n",
        "# Example usage:\n",
        "print(my_capitalize(\"hello\"))  # Output: Hello\n",
        "print(my_capitalize(\"world\"))  # Output: World\n"
      ],
      "metadata": {
        "colab": {
          "base_uri": "https://localhost:8080/"
        },
        "id": "R--OHQjV_r0O",
        "outputId": "b7c4de37-1455-48f2-f7b5-7e5e8dc79d67"
      },
      "execution_count": null,
      "outputs": [
        {
          "output_type": "stream",
          "name": "stdout",
          "text": [
            "Hello\n",
            "World\n"
          ]
        }
      ]
    }
  ]
}