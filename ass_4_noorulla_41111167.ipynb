{
  "nbformat": 4,
  "nbformat_minor": 0,
  "metadata": {
    "colab": {
      "provenance": [],
      "authorship_tag": "ABX9TyMdR7PBLQs2O2WZJiVwYs28",
      "include_colab_link": true
    },
    "kernelspec": {
      "name": "python3",
      "display_name": "Python 3"
    },
    "language_info": {
      "name": "python"
    }
  },
  "cells": [
    {
      "cell_type": "markdown",
      "metadata": {
        "id": "view-in-github",
        "colab_type": "text"
      },
      "source": [
        "<a href=\"https://colab.research.google.com/github/noorullask/aws-ass1/blob/main/ass_4_noorulla_41111167.ipynb\" target=\"_parent\"><img src=\"https://colab.research.google.com/assets/colab-badge.svg\" alt=\"Open In Colab\"/></a>"
      ]
    },
    {
      "cell_type": "code",
      "execution_count": null,
      "metadata": {
        "colab": {
          "base_uri": "https://localhost:8080/"
        },
        "id": "Q1q-PUkoYkfw",
        "outputId": "f2279664-22ba-45fa-da37-c2a113ed57a9"
      },
      "outputs": [
        {
          "output_type": "stream",
          "name": "stdout",
          "text": [
            "Original String: some name\n",
            "Upper Case: SOME NAME\n",
            "Lower Case: some name\n",
            "Capitalized: Some name\n",
            "Replacing 'e' with 'E': somE namE\n"
          ]
        }
      ],
      "source": [
        "# String\n",
        "name = \"some name\"\n",
        "print(\"Original String:\", name)\n",
        "print(\"Upper Case:\", name.upper())\n",
        "print(\"Lower Case:\", name.lower())\n",
        "print(\"Capitalized:\", name.capitalize())\n",
        "print(\"Replacing 'e' with 'E':\", name.replace('e', 'E'))"
      ]
    },
    {
      "cell_type": "code",
      "source": [
        "# List\n",
        "L = [1, 2, 3]\n",
        "print(\"Original List:\", L)\n",
        "L.extend([5, 6, 7])\n",
        "print(\"Extended List:\", L)\n",
        "del L[4]\n",
        "print(\"List after removing 5th value:\", L)"
      ],
      "metadata": {
        "colab": {
          "base_uri": "https://localhost:8080/"
        },
        "id": "2QLbo0MGY_72",
        "outputId": "344f2c9a-673a-446e-f964-5bdffe92c584"
      },
      "execution_count": null,
      "outputs": [
        {
          "output_type": "stream",
          "name": "stdout",
          "text": [
            "Original List: [1, 2, 3]\n",
            "Extended List: [1, 2, 3, 5, 6, 7]\n",
            "List after removing 5th value: [1, 2, 3, 5, 7]\n"
          ]
        }
      ]
    },
    {
      "cell_type": "code",
      "source": [
        "# Dictionary\n",
        "d = {'mango': 10, 'banana': 0, 'apple': 15, 'orange': 0, 'pineapple': 20}\n",
        "print(\"Original Dictionary:\", d)\n",
        "d = {key: value for key, value in d.items() if value != 0}\n",
        "print(\"Dictionary after removing out of stock fruits:\", d)\n",
        "d['mango'] = 15\n",
        "d['pineapple'] -= 5\n",
        "print(\"Updated Dictionary:\", d)\n"
      ],
      "metadata": {
        "colab": {
          "base_uri": "https://localhost:8080/"
        },
        "id": "O0eRazb6ZON4",
        "outputId": "497f6b3a-bea4-49f4-ae4b-f8a67a07981c"
      },
      "execution_count": null,
      "outputs": [
        {
          "output_type": "stream",
          "name": "stdout",
          "text": [
            "Original Dictionary: {'mango': 10, 'banana': 0, 'apple': 15, 'orange': 0, 'pineapple': 20}\n",
            "Dictionary after removing out of stock fruits: {'mango': 10, 'apple': 15, 'pineapple': 20}\n",
            "Updated Dictionary: {'mango': 15, 'apple': 15, 'pineapple': 15}\n"
          ]
        }
      ]
    },
    {
      "cell_type": "code",
      "source": [
        "# Using pop, remove in all 3 mutable data types (list, dict, set)\n",
        "# For list\n",
        "L = [1, 2, 3]\n",
        "print(\"Original List:\", L)\n",
        "L.pop()  # Removes the last element\n",
        "print(\"List after pop operation:\", L)"
      ],
      "metadata": {
        "colab": {
          "base_uri": "https://localhost:8080/"
        },
        "id": "5l3urIEtZd_j",
        "outputId": "854e2f6c-9b28-4e0f-b307-cc6def669da5"
      },
      "execution_count": null,
      "outputs": [
        {
          "output_type": "stream",
          "name": "stdout",
          "text": [
            "Original List: [1, 2, 3]\n",
            "List after pop operation: [1, 2]\n"
          ]
        }
      ]
    },
    {
      "cell_type": "code",
      "source": [
        "d = {'a': 1, 'b': 2, 'c': 3}\n",
        "print(\"Original Dictionary:\", d)\n",
        "removed_item = d.pop('b')\n",
        "print(\"Dictionary after pop operation:\", d)\n",
        "print(\"Removed Item:\", removed_item)"
      ],
      "metadata": {
        "colab": {
          "base_uri": "https://localhost:8080/"
        },
        "id": "EY4uNDHzZiQP",
        "outputId": "7683717b-d68d-4441-d71e-2f685246e241"
      },
      "execution_count": null,
      "outputs": [
        {
          "output_type": "stream",
          "name": "stdout",
          "text": [
            "Original Dictionary: {'a': 1, 'b': 2, 'c': 3}\n",
            "Dictionary after pop operation: {'a': 1, 'c': 3}\n",
            "Removed Item: 2\n"
          ]
        }
      ]
    },
    {
      "cell_type": "code",
      "source": [
        "# For set\n",
        "s = {1, 2, 3}\n",
        "print(\"Original Set:\", s)\n",
        "s.remove(2)\n",
        "print(\"Set after remove operation:\", s)"
      ],
      "metadata": {
        "colab": {
          "base_uri": "https://localhost:8080/"
        },
        "id": "k_NBWgzyZlYD",
        "outputId": "9e95f274-5b80-4ef9-9630-bf69633acc96"
      },
      "execution_count": null,
      "outputs": [
        {
          "output_type": "stream",
          "name": "stdout",
          "text": [
            "Original Set: {1, 2, 3}\n",
            "Set after remove operation: {1, 3}\n"
          ]
        }
      ]
    }
  ]
}